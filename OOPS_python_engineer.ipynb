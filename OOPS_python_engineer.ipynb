{
 "cells": [
  {
   "cell_type": "markdown",
   "metadata": {},
   "source": [
    "# OOPS"
   ]
  },
  {
   "cell_type": "markdown",
   "metadata": {},
   "source": [
    "### 4 Principles of OOP\n",
    "**1. Inheritance\n",
    "2. Polymorphism\n",
    "3. Encapsulation\n",
    "4. Abstraction**\n",
    "\n"
   ]
  },
  {
   "cell_type": "code",
   "execution_count": 7,
   "metadata": {},
   "outputs": [
    {
     "name": "stdout",
     "output_type": "stream",
     "text": [
      "20\n",
      "Keyboard player\n"
     ]
    }
   ],
   "source": [
    "#position,name,age,level,salary\n",
    "se1=['software Engineer', 'Max', 20,'Junior', 5000]\n",
    "se2=['Designer', 'Lisa', 25 ,'senior', 7000]\n",
    "\n",
    "#we create class using \"class\" keyword \n",
    "#name of the class should be in PascalCase\n",
    "class SoftwareEngineer:\n",
    "\n",
    "    #class attribute \n",
    "    alias='Keyboard player' \n",
    "\n",
    "    #you can add any number of parameters\n",
    "    def __init__(self,name, age , level, salary):\n",
    "        #instance attribute(s) \n",
    "        self.name=name\n",
    "        self.age=age\n",
    "        self.level=level\n",
    "        self.salary=salary\n",
    "#creating an instance\n",
    "se1=SoftwareEngineer('Max',20,'software Engineer', 5000) \n",
    "#the class is only a blueprint with no space until an instance is created\n",
    "print(se1.age)\n",
    "print(SoftwareEngineer.alias)\n",
    "# print(SoftwareEngineer.name) throws an error\n",
    "#class cannot call instance attribute.\n",
    "#we can access only the class attributes by using class.<attribute>\n",
    "####know more about class attribute vs instance attribute"
   ]
  },
  {
   "cell_type": "markdown",
   "metadata": {},
   "source": [
    "## Functions in classes"
   ]
  },
  {
   "cell_type": "code",
   "execution_count": 24,
   "metadata": {},
   "outputs": [
    {
     "name": "stdout",
     "output_type": "stream",
     "text": [
      "Max is writing...\n",
      "Max is writing in python...\n",
      "name: Max ,age: 20 ,level: software Engineer\n",
      "True\n",
      "9000\n",
      "9000\n"
     ]
    }
   ],
   "source": [
    "# for any function inside class \"self\" is a default parameter\n",
    "# name of function will be in camelcase (recommended)\n",
    "class SoftwareEngineer:\n",
    "\n",
    "    alias='Keyboard player' \n",
    "    def __init__(self,name, age , level, salary):\n",
    "        self.name=name\n",
    "        self.age=age\n",
    "        self.level=level\n",
    "        self.salary=salary\n",
    "\n",
    "    # INSTANCE METHODS\n",
    "    # function with no parameters\n",
    "    def code(self):\n",
    "        print(f'{self.name} is writing...')\n",
    "\n",
    "    # function with parameters\n",
    "    def language(self,language):\n",
    "        print(f'{self.name} is writing in {language}...')\n",
    "\n",
    "    # function with a return attribute\n",
    "    # def display(self):\n",
    "    #     info=f'name: {self.name} \\nage: {self.age} \\nlevel: {self.level}'\n",
    "    #     return info\n",
    "    \n",
    "    # this function does the same as above function\n",
    "    # advantage here is there is no need to call any fucntion outside of class\n",
    "    def __str__(self):\n",
    "        info=f'name: {self.name} ,age: {self.age} ,level: {self.level}'\n",
    "        return info\n",
    "    \n",
    "    # to compare two instances having same info or not\n",
    "    def __eq__(self, o: object) -> bool:\n",
    "        return self.name==o.name and self.age==o.age and self.level==o.level\n",
    "\n",
    "    @staticmethod\n",
    "    def entrySalary(age): #class function <this can be negligable>\n",
    "        if age<25:\n",
    "            return 5_000\n",
    "        elif age<30:\n",
    "            return 7_000\n",
    "        return 9_000\n",
    "\n",
    "se1=SoftwareEngineer('Max',20,'software Engineer', 5000) \n",
    "se2=SoftwareEngineer('Max',20,'software Engineer', 5000) \n",
    "# code(se1) \n",
    "# this is not the correct way to call function in a class so it throws error\n",
    "se1.code()\n",
    "se1.language('python')\n",
    "    # inf=se1.display()\n",
    "    # print(inf)\n",
    "print(se1) # without __str__ function the output for this would be some object\n",
    "print(se1==se2) # initially eventhough the info is same it will return False\n",
    "# this is because its comparing memory address\n",
    "# so use __eq__ function to compare two instances\n",
    "\n",
    "print(se1.entrySalary(76)) \n",
    "# this throws an error cause there is no self in function parameter\n",
    "# you can make this work by declaring entrySalary as static function using @\n",
    "# But you can use class to call that function having no self\n",
    "print(SoftwareEngineer.entrySalary(50))"
   ]
  },
  {
   "cell_type": "markdown",
   "metadata": {},
   "source": [
    "## Inheritance\n"
   ]
  },
  {
   "cell_type": "markdown",
   "metadata": {},
   "source": [
    "### *Inheritance is the process by which one class takes on attributes and methods of another class. This newly formed class is called child class the other is called parent class*"
   ]
  },
  {
   "cell_type": "code",
   "execution_count": 34,
   "metadata": {},
   "outputs": [
    {
     "name": "stdout",
     "output_type": "stream",
     "text": [
      "MAX is coding ...\n",
      "MAX is debugging...\n",
      "7000\n",
      "jane is working...\n",
      "jane can draw...\n"
     ]
    }
   ],
   "source": [
    "#inherit, extend, override\n",
    "class Employee:\n",
    "    def __init__(self,name,age,salary) -> None:\n",
    "        self.name=name \n",
    "        self.age=age\n",
    "        self.salary=salary\n",
    "\n",
    "    def work(self):\n",
    "        print(f'{self.name} is working...') \n",
    "\n",
    "'''INHERITANCE'''\n",
    "class SoftwareEngineer(Employee):\n",
    "\n",
    "    '''extend'''\n",
    "    def __init__(self, name, age,salary,level) -> None:\n",
    "        # super is reffering to parent class\n",
    "        # we are overiding the initializer of parent class\n",
    "        # so always use super(). to proceed\n",
    "        super().__init__(name, age,salary) \n",
    "        self.level=level\n",
    "\n",
    "    def debug(self):\n",
    "        print(f'{self.name} is debugging...')\n",
    "\n",
    "    # This overrides the parent class of same name\n",
    "    '''Overriding'''\n",
    "    def work(self):\n",
    "        print(f'{self.name} is coding ...')\n",
    "\n",
    "\n",
    "'''INHERITANCE'''\n",
    "class Designer(Employee):\n",
    "\n",
    "    def draw(self):\n",
    "        print(f'{self.name} can draw...')\n",
    "\n",
    "# 1. se=SoftwareEngineer('MAX',25)\n",
    "se=SoftwareEngineer('MAX',25,7000,'junior')\n",
    "# print(se.name,se.age)\n",
    "se.work() #parent class method\n",
    "se.debug()\n",
    "print(se.salary)\n",
    "\n",
    "\n",
    "d=Designer('jane',22,8000)\n",
    "# print(d.name,d.age)\n",
    "d.work() #parent class method\n",
    "d.draw()"
   ]
  },
  {
   "cell_type": "markdown",
   "metadata": {},
   "source": [
    "## Polymorphism\n",
    "### (Greek word) -> Means many shapes"
   ]
  },
  {
   "cell_type": "code",
   "execution_count": 40,
   "metadata": {},
   "outputs": [
    {
     "name": "stdout",
     "output_type": "stream",
     "text": [
      "Max is coding ...\n",
      "Lisa is working...\n",
      "Philip is designing ...\n"
     ]
    }
   ],
   "source": [
    "class Employee:\n",
    "    def __init__(self,name,age,salary) -> None:\n",
    "        self.name=name \n",
    "        self.age=age\n",
    "        self.salary=salary\n",
    "\n",
    "    def work(self):\n",
    "        print(f'{self.name} is working...') \n",
    "\n",
    "class SoftwareEngineer(Employee):\n",
    "\n",
    "    def __init__(self, name, age,salary,level) -> None:\n",
    "        super().__init__(name, age,salary) \n",
    "        self.level=level\n",
    "\n",
    "    def debug(self):\n",
    "        print(f'{self.name} is debugging...')\n",
    "\n",
    "    def work(self):\n",
    "        print(f'{self.name} is coding ...')\n",
    "\n",
    "\n",
    "class Designer(Employee):\n",
    "\n",
    "    def draw(self):\n",
    "        print(f'{self.name} can draw...')\n",
    "\n",
    "    def work(self):\n",
    "        print(f'{self.name} is designing ...')\n",
    "\n",
    "'''polymorphism'''\n",
    "employees=[SoftwareEngineer('Max',  25, 6000, 'junior'),\n",
    "           Employee('Lisa',  30, 9000),\n",
    "           Designer('Philip',27,7000) ]\n",
    "\n",
    "def motivateEmployees(employees):\n",
    "    for i in employees:\n",
    "        i.work()\n",
    "\n",
    "motivateEmployees(employees)\n"
   ]
  },
  {
   "cell_type": "markdown",
   "metadata": {},
   "source": [
    "## Encapsulation & Abstraction"
   ]
  },
  {
   "cell_type": "markdown",
   "metadata": {},
   "source": [
    "### _x is called \"protected\" attribute , __x is called \"private\" attribute \n"
   ]
  },
  {
   "cell_type": "code",
   "execution_count": 2,
   "metadata": {},
   "outputs": [
    {
     "name": "stdout",
     "output_type": "stream",
     "text": [
      "25 Max\n",
      "5000\n",
      "10000\n"
     ]
    }
   ],
   "source": [
    "class Employee:\n",
    "    def __init__(self,name,age) -> None:\n",
    "        self.name=name\n",
    "        self.age=age\n",
    "        self._salary=5_000 #hiding salary attribute from outisde world\n",
    "        self._num_bugs=0\n",
    "        \n",
    "        \n",
    "    # getter\n",
    "    #only way to get private attribute\n",
    "    def getSalary(self): #private attributes are accessed only inside class.\n",
    "        #we cannot access them outside of class (it throws error if you try)\n",
    "        return self._salary\n",
    "    \n",
    "    # setter\n",
    "    #only way to modify private attribute\n",
    "    def setSalary(self,value):\n",
    "        # can check salary\n",
    "        self._salary=value   \n",
    "\n",
    "\n",
    "se=Employee('Max',25)\n",
    "print(se.age,se.name)\n",
    "# print(se.salary) #throws error because its a privateattribute\n",
    "print(se.getSalary())\n",
    "se.setSalary(10_000)\n",
    "print(se.getSalary())\n",
    "#1:08:23"
   ]
  },
  {
   "cell_type": "markdown",
   "metadata": {},
   "source": [
    "### advanced way of setter and getter (the pythonic way)"
   ]
  },
  {
   "cell_type": "code",
   "execution_count": 11,
   "metadata": {},
   "outputs": [
    {
     "name": "stdout",
     "output_type": "stream",
     "text": [
      "25 Max\n",
      "10000\n",
      "deleter called\n"
     ]
    }
   ],
   "source": [
    "class Employee:\n",
    "    def __init__(self,name,age) -> None:\n",
    "        self.name=name\n",
    "        self.age=age\n",
    "        self._salary=5_000 #hiding salary attribute from outisde world\n",
    "        self._num_bugs=0\n",
    "        \n",
    "        \n",
    "    # getter\n",
    "    #syntax:- @property\n",
    "    @property\n",
    "    def salary(self): #name of function should be the name of variable\n",
    "        return self._salary\n",
    "    \n",
    "    # setter\n",
    "    #syntax:- @<varname>.setter\n",
    "    @salary.setter\n",
    "    def salary(self,value): #name of function should be the name of variable\n",
    "        # can check salary\n",
    "        self._salary=value   \n",
    "\n",
    "    #deleter (not used mostly)\n",
    "    @salary.deleter\n",
    "    def salary(self): #name of function should be the name of variable\n",
    "        print('deleter called')\n",
    "        del self._salary\n",
    "\n",
    "se=Employee('Max',25)\n",
    "print(se.age,se.name)\n",
    "# print(se.salary) #throws error because its a privateattribute\n",
    "se.salary=10_000 #setter called (assigning is nomore in paranthesis)\n",
    "print(se.salary) #getter called\n",
    "del se.salary"
   ]
  }
 ],
 "metadata": {
  "interpreter": {
   "hash": "ed162cf3a8df028e1141feffce5e9b3d85b42f355e7fbd6ed8e4624f9522e6ae"
  },
  "kernelspec": {
   "display_name": "Python 3.9.7 64-bit",
   "name": "python3"
  },
  "language_info": {
   "codemirror_mode": {
    "name": "ipython",
    "version": 3
   },
   "file_extension": ".py",
   "mimetype": "text/x-python",
   "name": "python",
   "nbconvert_exporter": "python",
   "pygments_lexer": "ipython3",
   "version": "3.9.7"
  },
  "orig_nbformat": 4
 },
 "nbformat": 4,
 "nbformat_minor": 2
}

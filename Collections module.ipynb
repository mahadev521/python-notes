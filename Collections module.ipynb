{
 "cells": [
  {
   "cell_type": "markdown",
   "id": "5466b740",
   "metadata": {},
   "source": [
    "# Collections complete"
   ]
  },
  {
   "cell_type": "code",
   "execution_count": 2,
   "id": "42ea8b44",
   "metadata": {},
   "outputs": [],
   "source": [
    "'''the basic step.. importing here im importing \n",
    "everything in collections module which is not a \n",
    "very good practice always import what you need. \n",
    "If you import whole weight of your program increases'''\n",
    "\n",
    "from collections import *\n"
   ]
  },
  {
   "cell_type": "markdown",
   "id": "d827dedb",
   "metadata": {},
   "source": [
    "## ChainMap\n",
    "**Chain map is used to merge n number of dictionaries into sinle mapping**<br>\n",
    "*Remember chainmap is always in pascal case (C & M are capitals)*"
   ]
  },
  {
   "cell_type": "code",
   "execution_count": 2,
   "id": "068587b3",
   "metadata": {},
   "outputs": [
    {
     "name": "stdout",
     "output_type": "stream",
     "text": [
      "{'f': 6, 'g': 7, 'a': 1, 'b': 2, 'c': 4, 'e': 5}\n"
     ]
    }
   ],
   "source": [
    "a={'a':1,'b':2,'c':3}\n",
    "b={'c':4,'e':5}\n",
    "c={'f':6,'g':7}\n",
    "combined=ChainMap(b,a,c)\n",
    "#chainmap returns chainmap object so inorder to use it we must typecast it into dict\n",
    "print(dict(combined))"
   ]
  },
  {
   "cell_type": "markdown",
   "id": "3cdae34b",
   "metadata": {},
   "source": [
    "*Note: if dictionaries having same keys then the first in the parameters given to chainmap from left to right is given more preference*"
   ]
  },
  {
   "cell_type": "code",
   "execution_count": 3,
   "id": "18e6cca2",
   "metadata": {},
   "outputs": [
    {
     "name": "stdout",
     "output_type": "stream",
     "text": [
      "{'a': 1, 'b': 2, 'c': 4, 'e': 5, 'f': 6, 'g': 7}\n"
     ]
    }
   ],
   "source": [
    "'''my personal trick'''\n",
    "# if you want to merge dictionaries use piping operator '|'\n",
    "a={'a':1,'b':2,'c':3}\n",
    "b={'c':4,'e':5}\n",
    "c={'f':6,'g':7}\n",
    "combined=a|b|c\n",
    "print(combined)\n",
    "# Note: if dictionaries having same keys then the last dictionary's key value is given more preference"
   ]
  },
  {
   "cell_type": "markdown",
   "id": "eefac324",
   "metadata": {},
   "source": [
    "## Counter\n",
    "**It is a collection where elements are stored as dictionary keys and their counts are stored as dictionary values**"
   ]
  },
  {
   "cell_type": "code",
   "execution_count": 4,
   "id": "131c7402",
   "metadata": {},
   "outputs": [
    {
     "name": "stdout",
     "output_type": "stream",
     "text": [
      "Counter({' ': 4, 'o': 3, 'l': 3, 's': 3, 'e': 2, 't': 2, 'i': 2, 'a': 2, 'C': 1, 'c': 1, 'n': 1, 'v': 1, 'm': 1, 'd': 1, 'u': 1})\n",
      "Counter({1: 4, 3: 4, 4: 4, 5: 3, 2: 2, 6: 2, 7: 1, 8: 1})\n"
     ]
    }
   ],
   "source": [
    "x='Collections is a vast module'\n",
    "counter=Counter(x) \n",
    "print(counter)\n",
    "\n",
    "y=[1,1,1,2,3,4,5,6,7,8,4,5,3,4,2,3,1,3,4,5,6]\n",
    "counter=Counter(y) \n",
    "print(counter)\n",
    "\n",
    "#returns a chain object so typecast it into dict for further usage"
   ]
  },
  {
   "cell_type": "markdown",
   "id": "072bff1d",
   "metadata": {},
   "source": [
    "### Methods on counter\n",
    "*Note: these methods only work on counter object i.e., before type casting*"
   ]
  },
  {
   "cell_type": "code",
   "execution_count": 5,
   "id": "beeaeafb",
   "metadata": {},
   "outputs": [
    {
     "name": "stdout",
     "output_type": "stream",
     "text": [
      "[1, 1, 1, 1, 3, 3, 3, 3, 4, 4, 4, 4, 5, 5, 5, 2, 2, 6, 6, 7, 8]\n"
     ]
    }
   ],
   "source": [
    "'''.elements() '''\n",
    "#to show the elements in a counter object\n",
    "#usually returns a chain object typecast it\n",
    "x={1: 4, 3: 4, 4: 4, 5: 3, 2: 2, 6: 2, 7: 1, 8: 1}\n",
    "counter=Counter(x) \n",
    "print(list(counter.elements()))"
   ]
  },
  {
   "cell_type": "code",
   "execution_count": 6,
   "id": "306ea4e0",
   "metadata": {},
   "outputs": [
    {
     "name": "stdout",
     "output_type": "stream",
     "text": [
      "[('e', 8)] \n",
      "\n",
      "[('e', 8), (' ', 4), ('h', 3)] \n",
      "\n",
      "[('e', 8), (' ', 4), ('h', 3), ('r', 3), ('t', 2), ('i', 2), ('y', 2), ('d', 2), ('s', 1), ('b', 1), ('a', 1), ('u', 1), ('n', 1), ('v', 1), ('w', 1)]\n"
     ]
    }
   ],
   "source": [
    "'''most_common([n])'''\n",
    "#n is the parameter passed to get n most repeating keys in a counter\n",
    "x='there is beauty hidden everywhere'\n",
    "x=Counter(x).most_common(1)\n",
    "print(x,'\\n')\n",
    "\n",
    "x='there is beauty hidden everywhere'\n",
    "x=Counter(x).most_common(3)\n",
    "print(x,'\\n')\n",
    "\n",
    "x='there is beauty hidden everywhere'\n",
    "x=Counter(x).most_common() #when you didn't mention numeric parameter it sorts all keys in desc order\n",
    "print(x)\n"
   ]
  },
  {
   "cell_type": "code",
   "execution_count": 7,
   "id": "9539883b",
   "metadata": {},
   "outputs": [
    {
     "name": "stdout",
     "output_type": "stream",
     "text": [
      "Counter({'c': 5, 'd': 5, 'a': 4, 'b': 2})\n",
      "Counter({'c': 5, 'd': 5, 'a': 2, 'b': 2})\n"
     ]
    }
   ],
   "source": [
    "'''.subtract(mapping or iterable)'''\n",
    "#there is noo need of having same number or same parameters.\n",
    "\n",
    "# this method subracts the values of passed iterable from the values of called iterable\n",
    "c = Counter(a=4, b=4, c=8, d=9)\n",
    "d = Counter( b=2, c=3, d=4)\n",
    "e={'a':2}\n",
    "c.subtract(d)\n",
    "print(c)\n",
    "\n",
    "c.subtract(e) #you can pass dictionary/ counter as parameter\n",
    "print(c)\n",
    "\n",
    "# e.subtract(a) #this throws an error you cannot call with regual dict\n",
    "\n"
   ]
  },
  {
   "cell_type": "code",
   "execution_count": 8,
   "id": "0840e14b",
   "metadata": {},
   "outputs": [
    {
     "ename": "AttributeError",
     "evalue": "'Counter' object has no attribute 'total'",
     "output_type": "error",
     "traceback": [
      "\u001b[1;31m---------------------------------------------------------------------------\u001b[0m",
      "\u001b[1;31mAttributeError\u001b[0m                            Traceback (most recent call last)",
      "\u001b[1;32m<ipython-input-8-7e5012f82761>\u001b[0m in \u001b[0;36m<module>\u001b[1;34m\u001b[0m\n\u001b[0;32m      2\u001b[0m \u001b[1;31m#returns the sum of all values in the counter\u001b[0m\u001b[1;33m\u001b[0m\u001b[1;33m\u001b[0m\u001b[0m\n\u001b[0;32m      3\u001b[0m \u001b[0mc\u001b[0m \u001b[1;33m=\u001b[0m \u001b[0mCounter\u001b[0m\u001b[1;33m(\u001b[0m\u001b[0ma\u001b[0m\u001b[1;33m=\u001b[0m\u001b[1;36m10\u001b[0m\u001b[1;33m,\u001b[0m \u001b[0mb\u001b[0m\u001b[1;33m=\u001b[0m\u001b[1;36m5\u001b[0m\u001b[1;33m,\u001b[0m \u001b[0mc\u001b[0m\u001b[1;33m=\u001b[0m\u001b[1;36m0\u001b[0m\u001b[1;33m)\u001b[0m\u001b[1;33m\u001b[0m\u001b[1;33m\u001b[0m\u001b[0m\n\u001b[1;32m----> 4\u001b[1;33m \u001b[0mprint\u001b[0m\u001b[1;33m(\u001b[0m\u001b[0mc\u001b[0m\u001b[1;33m.\u001b[0m\u001b[0mtotal\u001b[0m\u001b[1;33m(\u001b[0m\u001b[1;33m)\u001b[0m\u001b[1;33m)\u001b[0m\u001b[1;33m\u001b[0m\u001b[1;33m\u001b[0m\u001b[0m\n\u001b[0m",
      "\u001b[1;31mAttributeError\u001b[0m: 'Counter' object has no attribute 'total'"
     ]
    }
   ],
   "source": [
    "'''.total()'''  #only available in python 3.10 version so don't panic when you face error\n",
    "#returns the sum of all values in the counter\n",
    "c = Counter(a=10, b=5, c=0)\n",
    "print(c.total())"
   ]
  },
  {
   "cell_type": "code",
   "execution_count": 9,
   "id": "83d86771",
   "metadata": {},
   "outputs": [
    {
     "name": "stdout",
     "output_type": "stream",
     "text": [
      "Counter({'a': 4, 'b': 3})\n",
      "Counter({'a': 2})\n",
      "Counter({'a': 1, 'b': 1})\n",
      "Counter({'a': 3, 'b': 2})\n",
      "False\n",
      "Counter({'a': 3, 'b': 1})\n",
      "Counter({'c': 3})\n"
     ]
    }
   ],
   "source": [
    "'''arithematic operations'''\n",
    "c = Counter(a=3, b=1,c=-3)\n",
    "d = Counter(a=1, b=2)\n",
    "print(c + d)                       # add two counters together:  c[x] + d[x]\n",
    "print(c - d)                       # subtract (keeping only positive counts)\n",
    "print(c & d)                       # intersection:  min(c[x], d[x])\n",
    "print(c | d)                       # union:  max(c[x], d[x]\n",
    "print(c == d)                      # equality:  c[x] == d[x]\n",
    "print(+c)                          # removes -ve valued keys\n",
    "print(-c)                          # removes +ve valued keys"
   ]
  },
  {
   "cell_type": "markdown",
   "id": "145d2ede",
   "metadata": {},
   "source": [
    "## Deque\n",
    "**Deque (Doubly Ended Queue) is the optimized list for quicker append and pop operations from both sides of the container. It provides O(1) time complexity for append and pop operations as compared to list with O(n) time complexity. And have some awesome methods**"
   ]
  },
  {
   "cell_type": "code",
   "execution_count": 10,
   "id": "5fe0c3ac",
   "metadata": {},
   "outputs": [
    {
     "name": "stdout",
     "output_type": "stream",
     "text": [
      "deque(['M', 'a', 'h', 'a', 'd', 'e', 'v'])\n",
      "deque([1, 2, 3, 4, 5, 4, 3, 2, 1, 0])\n",
      "deque([1, 2, 3])\n"
     ]
    }
   ],
   "source": [
    "from collections import deque\n",
    "x='Mahadev'\n",
    "d=deque(x)\n",
    "print(d)\n",
    "\n",
    "y=[1,2,3,4,5,4,3,2,1,0]\n",
    "d=deque(y)\n",
    "print(d)\n",
    "\n",
    "x=deque((1,2,3)) #even if you give tuple it converts to deque\n",
    "print(x)"
   ]
  },
  {
   "cell_type": "markdown",
   "id": "7afbacbf",
   "metadata": {},
   "source": [
    "### Methods on deque\n"
   ]
  },
  {
   "cell_type": "code",
   "execution_count": 11,
   "id": "a62851cd",
   "metadata": {},
   "outputs": [
    {
     "name": "stdout",
     "output_type": "stream",
     "text": [
      "deque(['M', 'a', 'h', 'a', 'd', 'e', 'v', 'xyz'])\n"
     ]
    }
   ],
   "source": [
    "x=deque('Mahadev')\n",
    "#append(x) same as list method\n",
    "x.append('xyz')\n",
    "print(x)"
   ]
  },
  {
   "cell_type": "code",
   "execution_count": 12,
   "id": "7a1b193d",
   "metadata": {},
   "outputs": [
    {
     "name": "stdout",
     "output_type": "stream",
     "text": [
      "deque(['abc', 'M', 'a', 'h', 'a', 'd', 'e', 'v', 'xyz'])\n"
     ]
    }
   ],
   "source": [
    "x.appendleft('abc') # as the name suggests appends to left\n",
    "print(x)"
   ]
  },
  {
   "cell_type": "code",
   "execution_count": 13,
   "id": "09bdd5e8",
   "metadata": {},
   "outputs": [
    {
     "name": "stdout",
     "output_type": "stream",
     "text": [
      "deque([])\n"
     ]
    }
   ],
   "source": [
    "x.clear() # clears the deque\n",
    "print(x)"
   ]
  },
  {
   "cell_type": "code",
   "execution_count": 14,
   "id": "8898d5bc",
   "metadata": {},
   "outputs": [
    {
     "name": "stdout",
     "output_type": "stream",
     "text": [
      "deque(['M', 'a', 'h', 'a', 'd', 'e', 'v', 'xyz'])\n",
      "deque(['M', 'a', 'h', 'a', 'd', 'e', 'v'])\n"
     ]
    }
   ],
   "source": [
    "x=deque('Mahadev')\n",
    "y=x.copy() # a shallow copy of deque is given to y\n",
    "#sothat changes in x donot effect y\n",
    "x.append('xyz')\n",
    "print(x)\n",
    "print(y)"
   ]
  },
  {
   "cell_type": "code",
   "execution_count": 15,
   "id": "84d1baa4",
   "metadata": {},
   "outputs": [
    {
     "name": "stdout",
     "output_type": "stream",
     "text": [
      "2\n"
     ]
    }
   ],
   "source": [
    "print(x.count('a')) #same as the list method"
   ]
  },
  {
   "cell_type": "code",
   "execution_count": 16,
   "id": "08ffe127",
   "metadata": {},
   "outputs": [
    {
     "name": "stdout",
     "output_type": "stream",
     "text": [
      "deque(['M', 'a', 'h', 'a', 'd', 'e', 'v', 'xyz', 1, 2, 3])\n",
      "deque([3, 2, 1, 'M', 'a', 'h', 'a', 'd', 'e', 'v', 'xyz', 1, 2, 3])\n"
     ]
    }
   ],
   "source": [
    "'''.extend(iterable)''' #adds the elements of new iterable into deque\n",
    "y=[1,2,3]\n",
    "x.extend(y)\n",
    "print(x)\n",
    "x.extendleft(y)\n",
    "print(x)"
   ]
  },
  {
   "cell_type": "markdown",
   "id": "08d4ddfb",
   "metadata": {},
   "source": [
    ".index(),.insert(),.pop(),.popleft(),\n",
    ".reverse(),.remove() all are same as of list methods"
   ]
  },
  {
   "cell_type": "code",
   "execution_count": 17,
   "id": "f386a259",
   "metadata": {},
   "outputs": [
    {
     "name": "stdout",
     "output_type": "stream",
     "text": [
      "deque([2, 3, 1])\n",
      "deque([3, 1, 2])\n"
     ]
    }
   ],
   "source": [
    "'''.rotate(n=value)'''\n",
    "#rotates the dequeue elements \n",
    "# -ve refers anti clockwise\n",
    "# +ve refers cloclwise\n",
    "x=deque((1,2,3))\n",
    "x.rotate(2) \n",
    "print(x)\n",
    "\n",
    "x=deque((1,2,3))\n",
    "x.rotate(-2) \n",
    "print(x)"
   ]
  },
  {
   "cell_type": "code",
   "execution_count": 18,
   "id": "f2962c19",
   "metadata": {},
   "outputs": [
    {
     "name": "stdout",
     "output_type": "stream",
     "text": [
      "deque(['u', 'm', 'a', 'k', 'i'], maxlen=5)\n"
     ]
    }
   ],
   "source": [
    "x=deque('The tale of naturo uzumaki',5)\n",
    "#the second parameter of deque is max length by default\n",
    "# its None. But if you mention it takes the last characters\n",
    "# of given length into deque\n",
    "print(x)"
   ]
  },
  {
   "cell_type": "markdown",
   "id": "3540f18b",
   "metadata": {},
   "source": [
    "## DefaultDict\n",
    "*The functionality of both dictionaries and defaultdict are almost same except for the fact that defaultdict never raises a KeyError. It provides a default value for the key that does not exists.*<br><br><hr>\n",
    "**Syntax: defaultdict(default_factory)<br>\n",
    "Parameters:<br>\n",
    "default_factory: A function returning the default value for the dictionary defined. If this argument is absent then the dictionary raises a KeyError.**"
   ]
  },
  {
   "cell_type": "code",
   "execution_count": 22,
   "id": "d196c5cd",
   "metadata": {},
   "outputs": [
    {
     "name": "stdout",
     "output_type": "stream",
     "text": [
      "1\n",
      "2\n",
      "Not Present\n"
     ]
    }
   ],
   "source": [
    "from collections import defaultdict\n",
    "\n",
    "def def_value():\n",
    "    return \"Not Present\"\n",
    "      \n",
    "d = defaultdict(def_value)\n",
    "d[\"a\"] = 1\n",
    "d[\"b\"] = 2\n",
    "  \n",
    "print(d[\"a\"])\n",
    "print(d[\"b\"])\n",
    "print(d[\"c\"])"
   ]
  },
  {
   "cell_type": "code",
   "execution_count": 38,
   "id": "29c4601b",
   "metadata": {},
   "outputs": [
    {
     "name": "stdout",
     "output_type": "stream",
     "text": [
      "<class 'str'>\n",
      "Not present\n",
      "exists\n"
     ]
    }
   ],
   "source": [
    "# d=defaultdict(int) #When the int class is passed as \n",
    "#the default_factory argument, then a defaultdict \n",
    "#is created with default value as zero.\n",
    "\n",
    "'''arguement must be a function'''\n",
    "# d=defaultdict(lambda: [])\n",
    "# d=defaultdict(lambda: 3)\n",
    "d=defaultdict(lambda: 'Not present')\n",
    "\n",
    "d['a']='exists'\n",
    "d['b']='exists'\n",
    "\n",
    "print(d['c'])\n",
    "print(d['a'])"
   ]
  },
  {
   "cell_type": "code",
   "execution_count": 41,
   "id": "0d2b8717",
   "metadata": {},
   "outputs": [
    {
     "name": "stdout",
     "output_type": "stream",
     "text": [
      "values as list: \n",
      "defaultdict(<class 'list'>, {0: [0], 1: [1], 2: [2], 3: [3], 4: [4]})\n"
     ]
    }
   ],
   "source": [
    "from collections import defaultdict\n",
    "d = defaultdict(list)\n",
    "for i in range(5):d[i].append(i)      \n",
    "print(f\"values as list: \\n{d}\")"
   ]
  },
  {
   "cell_type": "markdown",
   "id": "f781de51",
   "metadata": {},
   "source": [
    "### methods\n",
    "**defaultdict has only one method**"
   ]
  },
  {
   "cell_type": "code",
   "execution_count": 42,
   "id": "65872eb2",
   "metadata": {},
   "outputs": [
    {
     "name": "stdout",
     "output_type": "stream",
     "text": [
      "Not Present\n",
      "Not Present\n"
     ]
    }
   ],
   "source": [
    "'''.__missing__(key)'''\n",
    "# this is used when there exist a value for a key\n",
    "# but you want to assign the default value to it\n",
    "\n",
    "from collections import defaultdict\n",
    "d = defaultdict(lambda: \"Not Present\")\n",
    "d[\"a\"] = 1\n",
    "d[\"b\"] = 2\n",
    "print(d.__missing__('a')) #value of a is 1 but you want to\n",
    "#assign the default value\n",
    "print(d['d'])"
   ]
  },
  {
   "cell_type": "markdown",
   "id": "567e99bc",
   "metadata": {},
   "source": [
    "**The upcoming 3 containers are for user to make his own datastructure**<br>\n",
    "**we don't use them but better to know**"
   ]
  },
  {
   "cell_type": "markdown",
   "id": "5915d86d",
   "metadata": {},
   "source": [
    "## UserList\n",
    "**UserList is a list like container that acts as a wrapper around the list objects. This is useful when someone wants to create their own list with some modified or additional functionality.**"
   ]
  },
  {
   "cell_type": "code",
   "execution_count": 43,
   "id": "6bf95f26",
   "metadata": {},
   "outputs": [
    {
     "name": "stdout",
     "output_type": "stream",
     "text": [
      "Original List\n",
      "After Insertion\n",
      "[1, 2, 3, 4, 5]\n"
     ]
    },
    {
     "ename": "RuntimeError",
     "evalue": "Deletion not allowed",
     "output_type": "error",
     "traceback": [
      "\u001b[1;31m---------------------------------------------------------------------------\u001b[0m",
      "\u001b[1;31mRuntimeError\u001b[0m                              Traceback (most recent call last)",
      "\u001b[1;32m<ipython-input-43-33e236160b4d>\u001b[0m in \u001b[0;36m<module>\u001b[1;34m\u001b[0m\n\u001b[0;32m     23\u001b[0m \u001b[0mprint\u001b[0m\u001b[1;33m(\u001b[0m\u001b[0mL\u001b[0m\u001b[1;33m)\u001b[0m\u001b[1;33m\u001b[0m\u001b[1;33m\u001b[0m\u001b[0m\n\u001b[0;32m     24\u001b[0m \u001b[1;31m# Deleting From List\u001b[0m\u001b[1;33m\u001b[0m\u001b[1;33m\u001b[0m\u001b[0m\n\u001b[1;32m---> 25\u001b[1;33m \u001b[0mL\u001b[0m\u001b[1;33m.\u001b[0m\u001b[0mremove\u001b[0m\u001b[1;33m(\u001b[0m\u001b[1;33m)\u001b[0m\u001b[1;33m\u001b[0m\u001b[1;33m\u001b[0m\u001b[0m\n\u001b[0m",
      "\u001b[1;32m<ipython-input-43-33e236160b4d>\u001b[0m in \u001b[0;36mremove\u001b[1;34m(self, s)\u001b[0m\n\u001b[0;32m      7\u001b[0m     \u001b[1;31m# from List\u001b[0m\u001b[1;33m\u001b[0m\u001b[1;33m\u001b[0m\u001b[0m\n\u001b[0;32m      8\u001b[0m     \u001b[1;32mdef\u001b[0m \u001b[0mremove\u001b[0m\u001b[1;33m(\u001b[0m\u001b[0mself\u001b[0m\u001b[1;33m,\u001b[0m \u001b[0ms\u001b[0m \u001b[1;33m=\u001b[0m \u001b[1;32mNone\u001b[0m\u001b[1;33m)\u001b[0m\u001b[1;33m:\u001b[0m\u001b[1;33m\u001b[0m\u001b[1;33m\u001b[0m\u001b[0m\n\u001b[1;32m----> 9\u001b[1;33m         \u001b[1;32mraise\u001b[0m \u001b[0mRuntimeError\u001b[0m\u001b[1;33m(\u001b[0m\u001b[1;34m\"Deletion not allowed\"\u001b[0m\u001b[1;33m)\u001b[0m\u001b[1;33m\u001b[0m\u001b[1;33m\u001b[0m\u001b[0m\n\u001b[0m\u001b[0;32m     10\u001b[0m \u001b[1;33m\u001b[0m\u001b[0m\n\u001b[0;32m     11\u001b[0m     \u001b[1;31m# Function to stop pop from\u001b[0m\u001b[1;33m\u001b[0m\u001b[1;33m\u001b[0m\u001b[0m\n",
      "\u001b[1;31mRuntimeError\u001b[0m: Deletion not allowed"
     ]
    }
   ],
   "source": [
    "from collections import UserList\n",
    "\n",
    "# Creating a List where\n",
    "# deletion is not allowed\n",
    "class MyList(UserList):\n",
    "    # Function to stop deletion\n",
    "    # from List\n",
    "    def remove(self, s = None):\n",
    "        raise RuntimeError(\"Deletion not allowed\")\n",
    "           \n",
    "    # Function to stop pop from \n",
    "    # List\n",
    "    def pop(self, s = None):\n",
    "        raise RuntimeError(\"Deletion not allowed\")\n",
    "       \n",
    "L = MyList([1, 2, 3, 4])\n",
    "   \n",
    "print(\"Original List\")\n",
    "   \n",
    "# Inserting to List\"\n",
    "L.append(5)\n",
    "print(\"After Insertion\")\n",
    "print(L)\n",
    "# Deleting From List\n",
    "L.remove()\n",
    "'''error caused by us'''"
   ]
  },
  {
   "cell_type": "markdown",
   "id": "7a95d9f9",
   "metadata": {},
   "source": [
    "## UserDict\n",
    "**UserDict is a dictionary-like container that acts as a wrapper around the dictionary objects. This container is used when someone wants to create their own dictionary with some modified or new functionality.**"
   ]
  },
  {
   "cell_type": "markdown",
   "id": "1e91c4de",
   "metadata": {},
   "source": [
    "## UserString\n",
    "**UserString is a string like container and just like UserDict and UserList it acts as a wrapper around string objects. It is used when someone wants to create their own strings with some modified or additional functionality.** "
   ]
  },
  {
   "cell_type": "code",
   "execution_count": 44,
   "id": "13d1def6",
   "metadata": {},
   "outputs": [
    {
     "name": "stdout",
     "output_type": "stream",
     "text": [
      "Original String: Geeks\n",
      "String After Appending: Geekss\n",
      "String after Removing: Gkss\n"
     ]
    }
   ],
   "source": [
    "from collections import UserString\n",
    "   \n",
    "# Creating a Mutable String\n",
    "class Mystring(UserString):\n",
    "       \n",
    "    # Function to append to\n",
    "    # string\n",
    "    def append(self, s):\n",
    "        self.data += s\n",
    "           \n",
    "    # Function to remove from \n",
    "    # string\n",
    "    def remove(self, s):\n",
    "        self.data = self.data.replace(s, \"\")\n",
    "        \n",
    "# Driver's code\n",
    "s1 = Mystring(\"Geeks\")\n",
    "print(\"Original String:\", s1.data)\n",
    "   \n",
    "# Appending to string\n",
    "s1.append(\"s\")\n",
    "print(\"String After Appending:\", s1.data)\n",
    "   \n",
    "# Removing from string\n",
    "s1.remove(\"e\")\n",
    "print(\"String after Removing:\", s1.data)"
   ]
  },
  {
   "cell_type": "markdown",
   "id": "4cf0ca20",
   "metadata": {},
   "source": [
    "## OrderedDict\n",
    "**Ordered dictionaries are just like regular dictionaries but have some extra capabilities relating to ordering operations. They have become less important now that the built-in dict class gained the ability to remember insertion order**<br> so we can skip this cause the abilities are available for our dictionary container"
   ]
  },
  {
   "cell_type": "markdown",
   "id": "7701252b",
   "metadata": {},
   "source": [
    "## Namedtuple\n",
    "**A NamedTuple returns a tuple object with names for each position which the ordinary tuples lack**<br><hr>\n",
    "**factory function for creating tuple subclasses with named fields**<br>\n",
    "the name simply suggests that its a tuple having a name\n",
    "<br>\n",
    "**syntax : namedtuple(typename, field_names,*, rename=False, defaults=None, module=None)**"
   ]
  },
  {
   "cell_type": "code",
   "execution_count": 8,
   "id": "09c1f56a",
   "metadata": {},
   "outputs": [
    {
     "name": "stdout",
     "output_type": "stream",
     "text": [
      "33\n",
      "33\n",
      "Point(x=11, y=22)\n"
     ]
    }
   ],
   "source": [
    "Point = namedtuple('Point', ['x', 'y'])\n",
    "p = Point(11, y=22)\n",
    "print(p[0]+p[1]) # indexable like the plain tuple\n",
    "print(p.x+p.y) # fields also accessible by name\n",
    "print(p)"
   ]
  },
  {
   "cell_type": "markdown",
   "id": "8b20830d",
   "metadata": {},
   "source": [
    "### methods"
   ]
  },
  {
   "cell_type": "code",
   "execution_count": 17,
   "id": "de8de8be",
   "metadata": {},
   "outputs": [
    {
     "name": "stdout",
     "output_type": "stream",
     "text": [
      "Point(x=11, y=22)\n",
      "{'x': 11, 'y': 22}\n",
      "Point(x=33, y=22)\n",
      "Point(x=11, y=22)\n"
     ]
    }
   ],
   "source": [
    "'''somenamedtuple._make(iterable)'''\n",
    "# makes a new instance from an existing sequence or iterable\n",
    "t=[11,22]\n",
    "print(Point._make(t))\n",
    "\n",
    "'''somenamedtuple._asdict()'''\n",
    "# returns a dict from a named tuple\n",
    "p = Point(x=11, y=22)\n",
    "print(p._asdict())\n",
    "\n",
    "'''somenamedtuple._replace(**kwargs)'''\n",
    "# Return a new instance of the named tuple replacing specified fields with new values:\n",
    "p = Point(x=11, y=22)\n",
    "print(p._replace(x=33)) # tuples are immutable so we have to assign them to variables to see the changes made\n",
    "print(p)"
   ]
  },
  {
   "cell_type": "code",
   "execution_count": 23,
   "id": "b94226c8",
   "metadata": {},
   "outputs": [
    {
     "name": "stdout",
     "output_type": "stream",
     "text": [
      "('x', 'y')\n",
      "Pixel(x=11, y=22, red=128, green=255, blue=0)\n",
      "{'balance': 0}\n",
      "Account(type='premium', balance=0)\n"
     ]
    }
   ],
   "source": [
    "'''somenamedtuple._fields'''\n",
    "# to know all the fields in a named tuple\n",
    "Point = namedtuple('Point', ['x', 'y'])\n",
    "p = Point(x=11, y=22)\n",
    "print(p._fields)\n",
    "\n",
    "\n",
    "#Where do we use this??\n",
    "Color = namedtuple('Color', 'red green blue')\n",
    "Pixel = namedtuple('Pixel', Point._fields + Color._fields)\n",
    "print(Pixel(11, 22, 128, 255, 0))\n",
    "\n",
    "\n",
    "\n",
    "\n",
    "\n",
    "'''somenamedtuple._field_defaults'''\n",
    "# Dictionary mapping field names to default values\n",
    "Account = namedtuple('Account', ['type', 'balance'], defaults=[0])\n",
    "print(Account._field_defaults)\n",
    "print(Account('premium'))"
   ]
  },
  {
   "cell_type": "code",
   "execution_count": null,
   "id": "8e02ae55",
   "metadata": {},
   "outputs": [],
   "source": [
    "'''To retrieve a field whose name is stored in a\n",
    "string, use the getattr() function'''\n",
    "\n",
    "print(getattr(p, 'x'))"
   ]
  },
  {
   "cell_type": "markdown",
   "id": "9619cfde",
   "metadata": {},
   "source": [
    "**To convert a dictionary to a named tuple, use the double-star-operator (as described in Unpacking Argument Lists)**"
   ]
  },
  {
   "cell_type": "code",
   "execution_count": 22,
   "id": "c480e753",
   "metadata": {},
   "outputs": [
    {
     "name": "stdout",
     "output_type": "stream",
     "text": [
      "Point(x=11, y=22)\n"
     ]
    }
   ],
   "source": [
    "d = {'x': 11, 'y': 22}\n",
    "print(Point(**d))"
   ]
  }
 ],
 "metadata": {
  "kernelspec": {
   "display_name": "Python 3 (ipykernel)",
   "language": "python",
   "name": "python3"
  },
  "language_info": {
   "codemirror_mode": {
    "name": "ipython",
    "version": 3
   },
   "file_extension": ".py",
   "mimetype": "text/x-python",
   "name": "python",
   "nbconvert_exporter": "python",
   "pygments_lexer": "ipython3",
   "version": "3.9.7"
  }
 },
 "nbformat": 4,
 "nbformat_minor": 5
}
